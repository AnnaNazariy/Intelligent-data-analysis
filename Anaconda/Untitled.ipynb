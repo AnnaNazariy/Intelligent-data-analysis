{
 "cells": [
  {
   "cell_type": "code",
   "execution_count": null,
   "id": "97ddd058-a812-4fbd-98ce-6f04b6bc8251",
   "metadata": {},
   "outputs": [],
   "source": [
    "base) C:\\Users\\annan>conda install -c conda-forge scikit-learn-extra\n",
    "Channels:\n",
    " - conda-forge\n",
    " - defaults\n",
    "Platform: win-64\n",
    "Collecting package metadata (repodata.json): done\n",
    "Solving environment: \\ warning  libmamba Added empty dependency for problem type SOLVER_RULE_UPDATE\n",
    "failed\n",
    "\n",
    "LibMambaUnsatisfiableError: Encountered problems while solving:\n",
    "  - package scikit-learn-extra-0.2.0-py310h1c4a608_2 requires python >=3.10,<3.11.0a0, but none of the providers can bed\n",
    "\n",
    "Could not solve for environment specs\n",
    "The following packages are incompatible\n",
    "├─ pin-1 is installable and it requires\n",
    "│  └─ python 3.12.* , which can be installed;\n",
    "└─ scikit-learn-extra is not installable because there are no viable options\n",
    "   ├─ scikit-learn-extra [0.1.0b2|0.2.0] would require\n",
    "   │  └─ python >=3.6,<3.7.0a0 , which conflicts with any installable versions previously reported;\n",
    "   ├─ scikit-learn-extra [0.1.0b2|0.2.0] would require\n",
    "   │  └─ python >=3.7,<3.8.0a0 , which conflicts with any installable versions previously reported;\n",
    "   ├─ scikit-learn-extra [0.1.0b2|0.2.0|0.3.0] would require\n",
    "   │  └─ python >=3.8,<3.9.0a0 , which conflicts with any installable versions previously reported;\n",
    "   ├─ scikit-learn-extra [0.2.0|0.3.0] would require\n",
    "   │  └─ python >=3.10,<3.11.0a0 , which conflicts with any installable versions previously reported;\n",
    "   ├─ scikit-learn-extra [0.2.0|0.3.0] would require\n",
    "   │  └─ python >=3.11,<3.12.0a0 , which conflicts with any installable versions previously reported;\n",
    "   └─ scikit-learn-extra [0.2.0|0.3.0] would require\n",
    "      └─ python >=3.9,<3.10.0a0 , which conflicts with any installable versions previously reported.\n"
   ]
  }
 ],
 "metadata": {
  "kernelspec": {
   "display_name": "Python 3 (ipykernel)",
   "language": "python",
   "name": "python3"
  },
  "language_info": {
   "codemirror_mode": {
    "name": "ipython",
    "version": 3
   },
   "file_extension": ".py",
   "mimetype": "text/x-python",
   "name": "python",
   "nbconvert_exporter": "python",
   "pygments_lexer": "ipython3",
   "version": "3.12.7"
  }
 },
 "nbformat": 4,
 "nbformat_minor": 5
}
