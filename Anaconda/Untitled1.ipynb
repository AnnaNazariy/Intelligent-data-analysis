{
 "cells": [
  {
   "cell_type": "code",
   "execution_count": 1,
   "id": "1417ea54-35f3-498a-87ea-255ccc31fd5c",
   "metadata": {},
   "outputs": [
    {
     "name": "stdout",
     "output_type": "stream",
     "text": [
      "gensim version: 4.3.3\n",
      "scipy version: 1.13.1\n"
     ]
    }
   ],
   "source": [
    "import gensim\n",
    "import scipy\n",
    "\n",
    "print(\"gensim version:\", gensim.__version__)\n",
    "print(\"scipy version:\", scipy.__version__)\n"
   ]
  },
  {
   "cell_type": "code",
   "execution_count": null,
   "id": "f141596b-96f1-49b1-b7ac-2e7c3f8d87da",
   "metadata": {},
   "outputs": [],
   "source": []
  }
 ],
 "metadata": {
  "kernelspec": {
   "display_name": "Python 3 (ipykernel)",
   "language": "python",
   "name": "python3"
  },
  "language_info": {
   "codemirror_mode": {
    "name": "ipython",
    "version": 3
   },
   "file_extension": ".py",
   "mimetype": "text/x-python",
   "name": "python",
   "nbconvert_exporter": "python",
   "pygments_lexer": "ipython3",
   "version": "3.12.7"
  }
 },
 "nbformat": 4,
 "nbformat_minor": 5
}
